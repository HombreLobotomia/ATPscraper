{
 "cells": [
  {
   "cell_type": "markdown",
   "metadata": {},
   "source": [
    "Si usa **import** per importare funzioni non direttamente presenti nella versione base di Python; considerali come degli *add in* di Excel, volendo.\n",
    "\n",
    "Le funzioni sono raccolte in **librerie**, tipicamente organizzate per area tematica, in questo caso importo una singola funzione (**permutations**) dalla libreria **itertools**.\n",
    " "
   ]
  },
  {
   "cell_type": "code",
   "execution_count": 1,
   "metadata": {},
   "outputs": [],
   "source": [
    "from itertools import permutations"
   ]
  },
  {
   "cell_type": "markdown",
   "metadata": {},
   "source": [
    "I dati normalmente li importeresti da un file esterno; non avendolo disponibile, li creo qua; per semplicità espositiva userò quattro prodotti (a, b, c,  d) e attribuirò un tempo arbitrario ai campi di linea di produzione."
   ]
  },
  {
   "cell_type": "markdown",
   "metadata": {},
   "source": [
    "Raccolgo i quattro prodotti in una **lista** (cioè una sequenza ordinata di oggetti con determinate proprietà che poi nel caso ti studi)"
   ]
  },
  {
   "cell_type": "code",
   "execution_count": 2,
   "metadata": {},
   "outputs": [],
   "source": [
    "prodotti = ['a', 'b', 'c', 'd']"
   ]
  },
  {
   "cell_type": "markdown",
   "metadata": {},
   "source": [
    "'Accoppio' i prodotti, creando una lista di tutti i possibili cambi di produzione"
   ]
  },
  {
   "cell_type": "code",
   "execution_count": 3,
   "metadata": {},
   "outputs": [],
   "source": [
    "cambi_produzione = list(permutations(prodotti, r=2))"
   ]
  },
  {
   "cell_type": "code",
   "execution_count": 4,
   "metadata": {},
   "outputs": [
    {
     "name": "stdout",
     "output_type": "stream",
     "text": [
      "[('a', 'b'), ('a', 'c'), ('a', 'd'), ('b', 'a'), ('b', 'c'), ('b', 'd'), ('c', 'a'), ('c', 'b'), ('c', 'd'), ('d', 'a'), ('d', 'b'), ('d', 'c')]\n"
     ]
    }
   ],
   "source": [
    "print(cambi_produzione)"
   ]
  },
  {
   "cell_type": "code",
   "execution_count": null,
   "metadata": {},
   "outputs": [],
   "source": []
  },
  {
   "cell_type": "code",
   "execution_count": 5,
   "metadata": {},
   "outputs": [],
   "source": [
    "cambi_produzione = [i[0]+i[1] for i in cambi_produzione]"
   ]
  },
  {
   "cell_type": "code",
   "execution_count": 6,
   "metadata": {},
   "outputs": [
    {
     "name": "stdout",
     "output_type": "stream",
     "text": [
      "['ab', 'ac', 'ad', 'ba', 'bc', 'bd', 'ca', 'cb', 'cd', 'da', 'db', 'dc']\n"
     ]
    }
   ],
   "source": [
    "print(cambi_produzione)"
   ]
  },
  {
   "cell_type": "markdown",
   "metadata": {},
   "source": [
    "Creo i realtivi tempi, sempre in una lista; uso un range da 1 a 12."
   ]
  },
  {
   "cell_type": "code",
   "execution_count": 7,
   "metadata": {},
   "outputs": [],
   "source": [
    "tempi_switch= list(range(1,13))"
   ]
  },
  {
   "cell_type": "code",
   "execution_count": null,
   "metadata": {},
   "outputs": [],
   "source": []
  },
  {
   "cell_type": "code",
   "execution_count": 8,
   "metadata": {},
   "outputs": [],
   "source": [
    "tempi_passaggi = dict(zip(cambi_produzione, tempi_switch))"
   ]
  },
  {
   "cell_type": "code",
   "execution_count": 9,
   "metadata": {},
   "outputs": [
    {
     "name": "stdout",
     "output_type": "stream",
     "text": [
      "{'ab': 1, 'ac': 2, 'ad': 3, 'ba': 4, 'bc': 5, 'bd': 6, 'ca': 7, 'cb': 8, 'cd': 9, 'da': 10, 'db': 11, 'dc': 12}\n"
     ]
    }
   ],
   "source": [
    "print(tempi_passaggi)"
   ]
  },
  {
   "cell_type": "code",
   "execution_count": null,
   "metadata": {},
   "outputs": [],
   "source": []
  },
  {
   "cell_type": "code",
   "execution_count": 10,
   "metadata": {},
   "outputs": [],
   "source": [
    "chains = list(permutations(prodotti))"
   ]
  },
  {
   "cell_type": "code",
   "execution_count": 11,
   "metadata": {},
   "outputs": [
    {
     "name": "stdout",
     "output_type": "stream",
     "text": [
      "[('a', 'b', 'c', 'd'), ('a', 'b', 'd', 'c'), ('a', 'c', 'b', 'd'), ('a', 'c', 'd', 'b'), ('a', 'd', 'b', 'c'), ('a', 'd', 'c', 'b'), ('b', 'a', 'c', 'd'), ('b', 'a', 'd', 'c'), ('b', 'c', 'a', 'd'), ('b', 'c', 'd', 'a'), ('b', 'd', 'a', 'c'), ('b', 'd', 'c', 'a'), ('c', 'a', 'b', 'd'), ('c', 'a', 'd', 'b'), ('c', 'b', 'a', 'd'), ('c', 'b', 'd', 'a'), ('c', 'd', 'a', 'b'), ('c', 'd', 'b', 'a'), ('d', 'a', 'b', 'c'), ('d', 'a', 'c', 'b'), ('d', 'b', 'a', 'c'), ('d', 'b', 'c', 'a'), ('d', 'c', 'a', 'b'), ('d', 'c', 'b', 'a')]\n"
     ]
    }
   ],
   "source": [
    "print(chains)"
   ]
  },
  {
   "cell_type": "code",
   "execution_count": 12,
   "metadata": {},
   "outputs": [],
   "source": [
    "chains2 = [[i[0]+i[1], i[1]+i[2], i[2]+i[3]] for i in chains]"
   ]
  },
  {
   "cell_type": "code",
   "execution_count": 14,
   "metadata": {},
   "outputs": [],
   "source": [
    "tempi_totali = [sum([tempi_passaggi[item] for item in i]) for i in chains2]\n"
   ]
  },
  {
   "cell_type": "code",
   "execution_count": 15,
   "metadata": {},
   "outputs": [
    {
     "name": "stdout",
     "output_type": "stream",
     "text": [
      "[15, 19, 16, 22, 19, 23, 15, 19, 15, 24, 18, 25, 14, 21, 15, 24, 20, 24, 16, 20, 17, 23, 20, 24]\n"
     ]
    }
   ],
   "source": [
    "print(tempi_totali)"
   ]
  },
  {
   "cell_type": "code",
   "execution_count": 16,
   "metadata": {},
   "outputs": [],
   "source": [
    "chains_finale = [''.join(list(i)) for i in chains]"
   ]
  },
  {
   "cell_type": "code",
   "execution_count": 17,
   "metadata": {},
   "outputs": [
    {
     "name": "stdout",
     "output_type": "stream",
     "text": [
      "['abcd', 'abdc', 'acbd', 'acdb', 'adbc', 'adcb', 'bacd', 'badc', 'bcad', 'bcda', 'bdac', 'bdca', 'cabd', 'cadb', 'cbad', 'cbda', 'cdab', 'cdba', 'dabc', 'dacb', 'dbac', 'dbca', 'dcab', 'dcba']\n"
     ]
    }
   ],
   "source": [
    "print(chains_finale)"
   ]
  },
  {
   "cell_type": "code",
   "execution_count": 18,
   "metadata": {},
   "outputs": [],
   "source": [
    "processi_produttivi=dict(zip(chains_finale, tempi_totali))"
   ]
  },
  {
   "cell_type": "code",
   "execution_count": 19,
   "metadata": {},
   "outputs": [
    {
     "data": {
      "text/plain": [
       "{'abcd': 15,\n",
       " 'abdc': 19,\n",
       " 'acbd': 16,\n",
       " 'acdb': 22,\n",
       " 'adbc': 19,\n",
       " 'adcb': 23,\n",
       " 'bacd': 15,\n",
       " 'badc': 19,\n",
       " 'bcad': 15,\n",
       " 'bcda': 24,\n",
       " 'bdac': 18,\n",
       " 'bdca': 25,\n",
       " 'cabd': 14,\n",
       " 'cadb': 21,\n",
       " 'cbad': 15,\n",
       " 'cbda': 24,\n",
       " 'cdab': 20,\n",
       " 'cdba': 24,\n",
       " 'dabc': 16,\n",
       " 'dacb': 20,\n",
       " 'dbac': 17,\n",
       " 'dbca': 23,\n",
       " 'dcab': 20,\n",
       " 'dcba': 24}"
      ]
     },
     "execution_count": 19,
     "metadata": {},
     "output_type": "execute_result"
    }
   ],
   "source": [
    "processi_produttivi"
   ]
  },
  {
   "cell_type": "code",
   "execution_count": null,
   "metadata": {},
   "outputs": [],
   "source": []
  }
 ],
 "metadata": {
  "kernelspec": {
   "display_name": "Python 3",
   "language": "python",
   "name": "python3"
  },
  "language_info": {
   "codemirror_mode": {
    "name": "ipython",
    "version": 3
   },
   "file_extension": ".py",
   "mimetype": "text/x-python",
   "name": "python",
   "nbconvert_exporter": "python",
   "pygments_lexer": "ipython3",
   "version": "3.7.1"
  }
 },
 "nbformat": 4,
 "nbformat_minor": 2
}
